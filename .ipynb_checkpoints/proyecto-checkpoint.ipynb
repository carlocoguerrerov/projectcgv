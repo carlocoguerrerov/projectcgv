{
 "cells": [
  {
   "cell_type": "markdown",
   "id": "e8b756ec",
   "metadata": {},
   "source": [
    "# Proyecto Final Tratamiento de Datos\n",
    "\n",
    "Carlos Guerrero Valarezo\n",
    "\n",
    "Maestria Ciberseguridad"
   ]
  },
  {
   "cell_type": "code",
   "execution_count": 1,
   "id": "00c89212",
   "metadata": {},
   "outputs": [
    {
     "name": "stdout",
     "output_type": "stream",
     "text": [
      "scipy: 1.7.3\n",
      "numpy: 1.21.5\n",
      "matplotlib: 3.5.3\n",
      "pandas: 1.3.5\n",
      "statsmodels: 0.13.2\n",
      "sklearn: 1.0.2\n",
      "tensorflow: 2.8.2\n",
      "keras: 2.8.0\n"
     ]
    }
   ],
   "source": [
    "#Versiones que tenemos instaladas en el sistema\n",
    "# scipy\n",
    "import scipy\n",
    "print('scipy: %s' % scipy.__version__)\n",
    "# numpy\n",
    "import numpy\n",
    "print('numpy: %s' % numpy.__version__)\n",
    "# matplotlib\n",
    "import matplotlib\n",
    "print('matplotlib: %s' % matplotlib.__version__)\n",
    "# pandas\n",
    "import pandas\n",
    "print('pandas: %s' % pandas.__version__)\n",
    "# statsmodels\n",
    "import statsmodels\n",
    "print('statsmodels: %s' % statsmodels.__version__)\n",
    "# scikit-learn\n",
    "import sklearn\n",
    "print('sklearn: %s' % sklearn.__version__)\n",
    "# tensorflow\n",
    "import tensorflow\n",
    "print('tensorflow: %s' % tensorflow.__version__)\n",
    "# keras\n",
    "import keras\n",
    "print('keras: %s' % keras.__version__)"
   ]
  },
  {
   "cell_type": "code",
   "execution_count": 2,
   "id": "cbf39210",
   "metadata": {},
   "outputs": [],
   "source": [
    "#Importacion de Librerias \n",
    "import numpy as np\n",
    "import os\n",
    "import re\n",
    "import matplotlib.pyplot as plt\n",
    "%matplotlib inline\n",
    "from sklearn.model_selection import train_test_split\n",
    "from sklearn.metrics import classification_report\n",
    "import tensorflow as tf\n",
    "import tensorflow.keras\n",
    "from tensorflow.keras.utils import to_categorical\n",
    "from tensorflow.keras import  Sequential,Input,Model\n",
    "#import\n",
    "from keras.datasets import mnist\n",
    "from tensorflow.keras.layers import Dense, Dropout, Flatten #Para la red neuronal\n",
    "from tensorflow.keras.layers import Conv2D, MaxPooling2D #para implementar las capas convolucionales\n",
    "from tensorflow.keras.layers import BatchNormalization\n",
    "from tensorflow.keras.layers import LeakyReLU\n",
    "from tensorflow.keras.optimizers import SGD"
   ]
  },
  {
   "cell_type": "code",
   "execution_count": 3,
   "id": "5ac02480",
   "metadata": {},
   "outputs": [
    {
     "name": "stdout",
     "output_type": "stream",
     "text": [
      "Leyendo imagenes de  C:\\Users\\MGZ\\Documents\\GitHub\\projectcgv\\../../../CarneDataset/train\\\n",
      "C:\\Users\\MGZ\\Documents\\GitHub\\projectcgv\\../../../CarneDataset/train\\CLASS_02 1\n",
      "C:\\Users\\MGZ\\Documents\\GitHub\\projectcgv\\../../../CarneDataset/train\\CLASS_03 62\n",
      "C:\\Users\\MGZ\\Documents\\GitHub\\projectcgv\\../../../CarneDataset/train\\CLASS_04 213\n",
      "C:\\Users\\MGZ\\Documents\\GitHub\\projectcgv\\../../../CarneDataset/train\\CLASS_05 105\n",
      "C:\\Users\\MGZ\\Documents\\GitHub\\projectcgv\\../../../CarneDataset/train\\CLASS_06 949\n",
      "C:\\Users\\MGZ\\Documents\\GitHub\\projectcgv\\../../../CarneDataset/train\\CLASS_07 37\n",
      "C:\\Users\\MGZ\\Documents\\GitHub\\projectcgv\\../../../CarneDataset/train\\CLASS_08 204\n",
      "Directorios leidos: 7\n",
      "Imagenes en cada directorio [63, 213, 105, 949, 37, 204, 62]\n",
      "suma Total de imagenes en subdirectorios: 1633\n"
     ]
    }
   ],
   "source": [
    "#Cargar, Contar y Leer fotos de directorio\n",
    "dirname = os.path.join(os.getcwd(), '../../../CarneDataset/train') #Path directorio de Fotos\n",
    "imgpath = dirname + os.sep \n",
    "\n",
    "images = []\n",
    "directories = []\n",
    "dircount = []\n",
    "prevRoot=''\n",
    "cant=0\n",
    "\n",
    "print(\"Leyendo imagenes de \",imgpath)\n",
    "\n",
    "for root, dirnames, filenames in os.walk(imgpath):\n",
    "    for filename in filenames:\n",
    "        if re.search(\"\\.(jpg|jpeg|png|bmp|tiff)$\", filename):\n",
    "            cant=cant+1\n",
    "            filepath = os.path.join(root, filename)\n",
    "            image = plt.imread(filepath) #cargará a memoria un arreglo de imágenes.\n",
    "            images.append(image)\n",
    "            b = \"Leyendo...\" + str(cant)\n",
    "            print (b, end=\"\\r\")\n",
    "            if prevRoot !=root:\n",
    "                print(root, cant)\n",
    "                prevRoot=root\n",
    "                directories.append(root)\n",
    "                dircount.append(cant)\n",
    "                cant=0\n",
    "dircount.append(cant)\n",
    "\n",
    "dircount = dircount[1:]\n",
    "dircount[0]=dircount[0]+1\n",
    "print('Directorios leidos:',len(directories))\n",
    "print(\"Imagenes en cada directorio\", dircount)\n",
    "print('suma Total de imagenes en subdirectorios:',sum(dircount))\n"
   ]
  },
  {
   "cell_type": "code",
   "execution_count": 4,
   "id": "1277b70a",
   "metadata": {},
   "outputs": [
    {
     "name": "stdout",
     "output_type": "stream",
     "text": [
      "Cantidad etiquetas creadas:  1633\n",
      "0 CLASS_02\n",
      "1 CLASS_03\n",
      "2 CLASS_04\n",
      "3 CLASS_05\n",
      "4 CLASS_06\n",
      "5 CLASS_07\n",
      "6 CLASS_08\n",
      "Cantidad Total de Clases :  7\n",
      "Arreglo de clases creadas :  [0 1 2 3 4 5 6]\n"
     ]
    }
   ],
   "source": [
    "#Creación de etiquetas\n",
    "labels=[]\n",
    "indice=0\n",
    "for cantidad in dircount:\n",
    "    for i in range(cantidad):\n",
    "        labels.append(indice)\n",
    "    indice=indice+1\n",
    "print(\"Cantidad etiquetas creadas: \",len(labels))\n",
    "\n",
    "carnes_clases=[]\n",
    "indice=0\n",
    "for directorio in directories:\n",
    "    name = directorio.split(os.sep)\n",
    "    print(indice , name[len(name)-1])\n",
    "    carnes_clases.append(name[len(name)-1])\n",
    "    indice=indice+1\n",
    "\n",
    "y = np.array(labels)\n",
    "X = np.array(images, dtype=np.uint8) #convierto de lista a numpy\n",
    "\n",
    "\n",
    "classes = np.unique(y)\n",
    "nClasses = len(classes)\n",
    "print('Cantidad Total de Clases : ', nClasses)\n",
    "print('Arreglo de clases creadas : ', classes)\n"
   ]
  },
  {
   "cell_type": "code",
   "execution_count": 5,
   "id": "caaa1854",
   "metadata": {},
   "outputs": [
    {
     "name": "stdout",
     "output_type": "stream",
     "text": [
      "Entrenamiento Data Shape :  (1306, 216, 384, 3) (1306,)\n",
      "Pruebas Data Shape :  (327, 216, 384, 3) (327,)\n",
      "Etiqueta Original: 6\n",
      "Despues de la conversion one-hot: [0. 0. 0. 0. 0. 0. 1.]\n",
      "(1044, 216, 384, 3) (262, 216, 384, 3) (1044, 7) (262, 7)\n"
     ]
    }
   ],
   "source": [
    "#Mezclar todo y crear los grupos de entrenamiento y testing\n",
    "train_X,test_X,train_Y,test_Y = train_test_split(X,y,test_size=0.2) #subdividimos los datos en 80/20 test y entrenamiento\n",
    "print('Entrenamiento Data Shape : ', train_X.shape, train_Y.shape)\n",
    "print('Pruebas Data Shape : ', test_X.shape, test_Y.shape)\n",
    "\n",
    "train_X = train_X.astype('float32')\n",
    "test_X = test_X.astype('float32')\n",
    "train_X = train_X / 255. #Preprocesamos el valor de los pixeles y lo normalizamos para que tengan un valor entre 0 y 1\n",
    "test_X = test_X / 255.  #Preprocesamos el valor de los pixeles y lo normalizamos para que tengan un valor entre 0 y 1\n",
    "\n",
    "# CAmbiar etiquetas de categorical a one-hot encoding\n",
    "train_Y_one_hot = to_categorical(train_Y)\n",
    "test_Y_one_hot = to_categorical(test_Y)\n",
    "\n",
    "# Mostrar cambio de categoria etiqueta usando one-hot encoding\n",
    "print('Etiqueta Original:', train_Y[0])\n",
    "print('Despues de la conversion one-hot:', train_Y_one_hot[0])\n",
    "\n",
    "\n",
    "train_X,valid_X,train_label,valid_label = train_test_split(train_X, train_Y_one_hot, test_size=0.2, random_state=13)\n",
    "\n",
    "print(train_X.shape,valid_X.shape,train_label.shape,valid_label.shape)\n",
    "\n"
   ]
  },
  {
   "cell_type": "code",
   "execution_count": 9,
   "id": "c45b871e",
   "metadata": {
    "scrolled": true
   },
   "outputs": [
    {
     "name": "stdout",
     "output_type": "stream",
     "text": [
      "Model: \"sequential_1\"\n",
      "_________________________________________________________________\n",
      " Layer (type)                Output Shape              Param #   \n",
      "=================================================================\n",
      " conv2d_1 (Conv2D)           (None, 216, 384, 32)      2432      \n",
      "                                                                 \n",
      " leaky_re_lu_2 (LeakyReLU)   (None, 216, 384, 32)      0         \n",
      "                                                                 \n",
      " max_pooling2d_1 (MaxPooling  (None, 108, 192, 32)     0         \n",
      " 2D)                                                             \n",
      "                                                                 \n",
      " dropout_2 (Dropout)         (None, 108, 192, 32)      0         \n",
      "                                                                 \n",
      " flatten_1 (Flatten)         (None, 663552)            0         \n",
      "                                                                 \n",
      " dense_2 (Dense)             (None, 32)                21233696  \n",
      "                                                                 \n",
      " leaky_re_lu_3 (LeakyReLU)   (None, 32)                0         \n",
      "                                                                 \n",
      " dropout_3 (Dropout)         (None, 32)                0         \n",
      "                                                                 \n",
      " dense_3 (Dense)             (None, 7)                 231       \n",
      "                                                                 \n",
      "=================================================================\n",
      "Total params: 21,236,359\n",
      "Trainable params: 21,236,359\n",
      "Non-trainable params: 0\n",
      "_________________________________________________________________\n"
     ]
    }
   ],
   "source": [
    "#Creacion de la Red Convolucional\n",
    "INIT_LR = 1e-3\n",
    "epochs = 15 \n",
    "batch_size = 64\n",
    "\n",
    "carnes_model = Sequential() #crear contenedor del modelo, en donde progresivamente se irán añadiendo las capas de la Red Convolucional\n",
    "carnes_model.add(Conv2D(32, kernel_size=(5, 5),activation='linear',padding='same',input_shape=(216,384,3)))\n",
    "carnes_model.add(LeakyReLU(alpha=0.1))\n",
    "carnes_model.add(MaxPooling2D((2, 2),padding='same'))\n",
    "carnes_model.add(Dropout(0.5))\n",
    "\n",
    "carnes_model.add(Flatten())\n",
    "carnes_model.add(Dense(32, activation='linear'))\n",
    "carnes_model.add(LeakyReLU(alpha=0.1))\n",
    "carnes_model.add(Dropout(0.5)) \n",
    "carnes_model.add(Dense(nClasses, activation='softmax'))\n",
    "\n",
    "carnes_model.summary()\n",
    "#sgd = SGD(learning_rate=0.1)\n",
    "carnes_model.compile(loss=tensorflow.keras.losses.categorical_crossentropy,optimizer=tensorflow.keras.optimizers.Adagrad(learning_rate=INIT_LR, decay=INIT_LR / 100) ,metrics=['accuracy'])"
   ]
  },
  {
   "cell_type": "code",
   "execution_count": 10,
   "id": "d6fc9576",
   "metadata": {
    "scrolled": true
   },
   "outputs": [
    {
     "name": "stdout",
     "output_type": "stream",
     "text": [
      "Epoch 1/15\n",
      "17/17 [==============================] - 47s 2s/step - loss: 1.9397 - accuracy: 0.5718 - val_loss: 1.9311 - val_accuracy: 0.5496\n",
      "Epoch 2/15\n",
      "17/17 [==============================] - 41s 2s/step - loss: 1.9040 - accuracy: 0.5833 - val_loss: 1.8591 - val_accuracy: 0.5496\n",
      "Epoch 3/15\n",
      "17/17 [==============================] - 41s 2s/step - loss: 1.7813 - accuracy: 0.5642 - val_loss: 1.7081 - val_accuracy: 0.5496\n",
      "Epoch 4/15\n",
      "17/17 [==============================] - 44s 3s/step - loss: 1.6182 - accuracy: 0.5709 - val_loss: 1.5689 - val_accuracy: 0.5496\n",
      "Epoch 5/15\n",
      "17/17 [==============================] - 52s 3s/step - loss: 1.5663 - accuracy: 0.5699 - val_loss: 1.5027 - val_accuracy: 0.5496\n",
      "Epoch 6/15\n",
      "17/17 [==============================] - 39s 2s/step - loss: 1.4998 - accuracy: 0.5728 - val_loss: 1.4669 - val_accuracy: 0.5496\n",
      "Epoch 7/15\n",
      "17/17 [==============================] - 41s 2s/step - loss: 1.4781 - accuracy: 0.5680 - val_loss: 1.4499 - val_accuracy: 0.5496\n",
      "Epoch 8/15\n",
      "17/17 [==============================] - 42s 2s/step - loss: 1.4677 - accuracy: 0.5651 - val_loss: 1.4427 - val_accuracy: 0.5496\n",
      "Epoch 9/15\n",
      "17/17 [==============================] - 39s 2s/step - loss: 1.4838 - accuracy: 0.5603 - val_loss: 1.4368 - val_accuracy: 0.5496\n",
      "Epoch 10/15\n",
      "17/17 [==============================] - 38s 2s/step - loss: 1.5086 - accuracy: 0.5709 - val_loss: 1.4379 - val_accuracy: 0.5496\n",
      "Epoch 11/15\n",
      "17/17 [==============================] - 39s 2s/step - loss: 1.4619 - accuracy: 0.5670 - val_loss: 1.4359 - val_accuracy: 0.5496\n",
      "Epoch 12/15\n",
      "17/17 [==============================] - 37s 2s/step - loss: 1.4965 - accuracy: 0.5776 - val_loss: 1.4400 - val_accuracy: 0.5496\n",
      "Epoch 13/15\n",
      "17/17 [==============================] - 36s 2s/step - loss: 1.4400 - accuracy: 0.5728 - val_loss: 1.4326 - val_accuracy: 0.5496\n",
      "Epoch 14/15\n",
      "17/17 [==============================] - 37s 2s/step - loss: 1.4620 - accuracy: 0.5680 - val_loss: 1.4328 - val_accuracy: 0.5496\n",
      "Epoch 15/15\n",
      "17/17 [==============================] - 35s 2s/step - loss: 1.4688 - accuracy: 0.5766 - val_loss: 1.4289 - val_accuracy: 0.5496\n",
      "INFO:tensorflow:Assets written to: carnes_mnist.h5py\\assets\n"
     ]
    }
   ],
   "source": [
    "carnes_train_dropout = carnes_model.fit(train_X, train_label, batch_size=batch_size,epochs=epochs,verbose=1,validation_data=(valid_X, valid_label))\n",
    "# Guardamos la informacion para no volver a generar en el futuro\n",
    "carnes_model.save(\"carnes_mnist.h5py\")"
   ]
  },
  {
   "cell_type": "code",
   "execution_count": 11,
   "id": "0b0a7d57",
   "metadata": {},
   "outputs": [
    {
     "name": "stdout",
     "output_type": "stream",
     "text": [
      "11/11 [==============================] - 3s 202ms/step - loss: 1.3804 - accuracy: 0.5872\n",
      "Test Red CNN:\n",
      "Perdida: 1.380362629890442\n",
      "Exactitud: 0.5871559381484985\n"
     ]
    },
    {
     "data": {
      "image/png": "[encoded data removed]",
      "text/plain": [
       "<Figure size 640x480 with 1 Axes>"
      ]
     },
     "metadata": {},
     "output_type": "display_data"
    },
    {
     "data": {
      "image/png": "[encoded data removed]",
      "text/plain": [
       "<Figure size 640x480 with 1 Axes>"
      ]
     },
     "metadata": {},
     "output_type": "display_data"
    }
   ],
   "source": [
    "\n",
    "test_eval = carnes_model.evaluate(test_X, test_Y_one_hot, verbose=1)\n",
    "\n",
    " \n",
    "\n",
    "print('Test Red CNN:')\n",
    "\n",
    "print('Perdida:', test_eval[0])\n",
    "\n",
    "print('Exactitud:', test_eval[1])\n",
    "\n",
    " \n",
    "\n",
    "accuracy = carnes_train_dropout.history['accuracy']\n",
    "\n",
    "val_accuracy = carnes_train_dropout.history['val_accuracy']\n",
    "\n",
    "loss = carnes_train_dropout.history['loss']\n",
    "\n",
    "val_loss = carnes_train_dropout.history['val_loss']\n",
    "\n",
    "epochs = range(len(accuracy))\n",
    "\n",
    "plt.plot(epochs, accuracy, 'bo', label='Precision de entrenamiento')\n",
    "\n",
    "plt.plot(epochs, val_accuracy, 'b', label='Exactitud de la validacion')\n",
    "\n",
    "plt.title('Precisión de entrenamiento y validación')\n",
    "\n",
    "plt.legend()\n",
    "\n",
    "plt.figure()\n",
    "\n",
    "plt.plot(epochs, loss, 'bo', label='Perdida de entrenamiento')\n",
    "\n",
    "plt.plot(epochs, val_loss, 'b', label='Perdida de validacion')\n",
    "\n",
    "plt.title('Perdida de entrenamiento y validacion')\n",
    "\n",
    "plt.legend()\n",
    "\n",
    "plt.show()"
   ]
  },
  {
   "cell_type": "code",
   "execution_count": 15,
   "id": "7ac7bf51",
   "metadata": {
    "scrolled": true
   },
   "outputs": [
    {
     "name": "stdout",
     "output_type": "stream",
     "text": [
      "Model: \"sequential_1\"\n",
      "_________________________________________________________________\n",
      " Layer (type)                Output Shape              Param #   \n",
      "=================================================================\n",
      " conv2d_1 (Conv2D)           (None, 216, 384, 32)      2432      \n",
      "                                                                 \n",
      " leaky_re_lu_2 (LeakyReLU)   (None, 216, 384, 32)      0         \n",
      "                                                                 \n",
      " max_pooling2d_1 (MaxPooling  (None, 108, 192, 32)     0         \n",
      " 2D)                                                             \n",
      "                                                                 \n",
      " dropout_2 (Dropout)         (None, 108, 192, 32)      0         \n",
      "                                                                 \n",
      " flatten_1 (Flatten)         (None, 663552)            0         \n",
      "                                                                 \n",
      " dense_2 (Dense)             (None, 32)                21233696  \n",
      "                                                                 \n",
      " leaky_re_lu_3 (LeakyReLU)   (None, 32)                0         \n",
      "                                                                 \n",
      " dropout_3 (Dropout)         (None, 32)                0         \n",
      "                                                                 \n",
      " dense_3 (Dense)             (None, 7)                 231       \n",
      "                                                                 \n",
      "=================================================================\n",
      "Total params: 21,236,359\n",
      "Trainable params: 21,236,359\n",
      "Non-trainable params: 0\n",
      "_________________________________________________________________\n"
     ]
    }
   ],
   "source": [
    "from tensorflow.keras.models import load_model\n",
    "savedModel=load_model('carnes_mnist.h5py')\n",
    "savedModel.summary()"
   ]
  },
  {
   "cell_type": "code",
   "execution_count": null,
   "id": "eff9e0fa",
   "metadata": {},
   "outputs": [],
   "source": []
  }
 ],
 "metadata": {
  "kernelspec": {
   "display_name": "Python 3 (ipykernel)",
   "language": "python",
   "name": "python3"
  },
  "language_info": {
   "codemirror_mode": {
    "name": "ipython",
    "version": 3
   },
   "file_extension": ".py",
   "mimetype": "text/x-python",
   "name": "python",
   "nbconvert_exporter": "python",
   "pygments_lexer": "ipython3",
   "version": "3.7.13"
  }
 },
 "nbformat": 4,
 "nbformat_minor": 5
}
